{
 "cells": [
  {
   "cell_type": "code",
   "execution_count": 4,
   "metadata": {},
   "outputs": [],
   "source": [
    "import os\n",
    "import sys\n",
    "import pickle\n",
    "import json\n",
    "import re"
   ]
  },
  {
   "cell_type": "code",
   "execution_count": 37,
   "metadata": {},
   "outputs": [],
   "source": [
    "def dedup(lst):\n",
    "    return [i for n, i in enumerate(lst) if i not in lst[n + 1:]]\n",
    "\n",
    "def read_log(fp):\n",
    "    examples = []\n",
    "    with open(fp, 'r') as f:\n",
    "        entry = f.readline()\n",
    "        while entry:\n",
    "            m = re.search('\"FILTER_RESULTS\",{\"type\":\"FILTER_RESULTS\",\"payload\":(.+)}', entry)\n",
    "            if m:\n",
    "                json_str = m.group(1)\n",
    "                exs = json.loads(json_str)\n",
    "                for ex in exs['examples']:\n",
    "                    ex.pop(\"id\", None)\n",
    "                examples.append(exs['examples'])\n",
    "                \n",
    "            entry = f.readline()\n",
    "    \n",
    "    return examples"
   ]
  },
  {
   "cell_type": "code",
   "execution_count": 38,
   "metadata": {},
   "outputs": [],
   "source": [
    "def read_log_dir(path):\n",
    "    examples = []\n",
    "    for f in os.listdir(path):\n",
    "        examples += read_log(os.path.join(path, f))\n",
    "        \n",
    "    return dedup(examples)"
   ]
  },
  {
   "cell_type": "code",
   "execution_count": 51,
   "metadata": {},
   "outputs": [],
   "source": [
    "examples = read_log_dir('/Users/aaron/Downloads/Website Logs')"
   ]
  },
  {
   "cell_type": "code",
   "execution_count": 54,
   "metadata": {},
   "outputs": [],
   "source": [
    "import requests\n",
    "\n",
    "def run_query(exs):\n",
    "    response = requests.post('http://hoogleplus.goto.ucsd.edu/api/search/example', json={\"facts\": exs})\n",
    "    return response.json()"
   ]
  },
  {
   "cell_type": "code",
   "execution_count": 57,
   "metadata": {},
   "outputs": [
    {
     "name": "stdout",
     "output_type": "stream",
     "text": [
      "[{'inputs': ['\"cccbbbaa\"'], 'output': '\"cba\"'}, {'inputs': ['\"aaabbab\"'], 'output': '\"abab\"'}]\n",
      "[{'inputs': ['[0]'], 'output': '[]'}]\n",
      "[{'inputs': ['\"aaabbab\"'], 'output': '\"abab\"'}, {'inputs': ['[0]'], 'output': '[]'}]\n",
      "[{'inputs': ['[]'], 'output': '[]'}, {'inputs': ['[0]'], 'output': '[0]'}, {'inputs': ['[1]'], 'output': '[1]'}]\n",
      "[{'inputs': ['[]'], 'output': '[]'}, {'inputs': ['[0]'], 'output': '[0]'}, {'inputs': ['[1]'], 'output': '[1]'}, {'inputs': ['[-1]'], 'output': '[-1]'}, {'inputs': ['[2]'], 'output': '[2]'}]\n",
      "[{'inputs': ['[(\\\\x -> x + 2), (\\\\x -> x * 2)]', '5'], 'output': '[7, 10]'}, {'inputs': ['[]', '0'], 'output': '[]'}]\n",
      "[{'inputs': ['2', '\"1\"'], 'output': '\"11\"'}]\n",
      "[{'inputs': ['4', '\"abc\"'], 'output': '\"abcabcabcabc\"'}]\n",
      "[{'inputs': ['[]'], 'output': '[]'}]\n",
      "[{'inputs': ['1', '\"abc\"'], 'output': '\"abc\"'}, {'inputs': ['4', '\"A\"'], 'output': '\"\"'}]\n",
      "[{'inputs': ['1', '\"abc\"'], 'output': '\"abc\"'}]\n",
      "[{'inputs': ['1', '2', '3'], 'output': '5'}]\n",
      "[{'inputs': ['\\\\x -> x * 2', '3', '1'], 'output': '8'}, {'inputs': ['\\\\x -> x ++ x', '3', '\"f-\"'], 'output': '\"f-f-f-f-f-f-f-f-\"'}]\n",
      "[{'inputs': ['2', '[1,2,3]'], 'output': '[1,2,3,1,2,3]'}]\n",
      "[{'inputs': ['2', '“abc\"'], 'output': '\"abcabc\"'}]\n",
      "[{'inputs': [' (\\\\x -> x ++ x)', '3', '\"f-\"'], 'output': '\"f-f-f-f-f-f-f-f-\"'}]\n",
      "[{'inputs': ['0', '[Nothing, Just 3]'], 'output': '3'}]\n",
      "[{'inputs': ['0', '[Nothing, Just 3]'], 'output': '3'}, {'inputs': ['0', '[Nothing]'], 'output': '0'}]\n",
      "[{'inputs': ['0', '[Just 1, Just 2]'], 'output': '1'}, {'inputs': ['0', '[Nothing, Just 3]'], 'output': '3'}, {'inputs': ['0', '[Nothing]'], 'output': '0'}]\n",
      "[{'inputs': ['bottom', '[]'], 'output': 'bottom'}, {'inputs': ['0', '[Just 1, Just 2]'], 'output': '1'}, {'inputs': ['0', '[Nothing, Just 3]'], 'output': '3'}, {'inputs': ['0', '[Nothing]'], 'output': '0'}]\n",
      "[{'inputs': ['[Just 3, Nothing, Just 4]', '5'], 'output': '3'}, {'inputs': ['[Nothing, Nothing]', '2'], 'output': '2'}, {'inputs': ['[Nothing, Just 2, Just 3]', '4'], 'output': '2'}]\n",
      "[{'inputs': ['[]', '3'], 'output': '3'}, {'inputs': ['[Just 3, Nothing, Just 4]', '5'], 'output': '3'}, {'inputs': ['[Nothing, Nothing]', '2'], 'output': '2'}, {'inputs': ['[Nothing, Just 2, Just 3]', '4'], 'output': '2'}]\n",
      "[{'inputs': ['[Nothing, Nothing]', '2'], 'output': '2'}, {'inputs': ['[Nothing, Just 2, Just 3]', '4'], 'output': '2'}]\n",
      "[{'inputs': ['(\\\\x -> x ++ x)', '3'], 'output': '\"f-\"'}]\n",
      "[{'inputs': ['2', '[1,2,3]'], 'output': '[1,2,3,1,2,3]'}, {'inputs': ['0', '[]'], 'output': '[]'}]\n",
      "[{'inputs': ['[Nothing, Nothing, Just 7, Nothing]', '5'], 'output': '7'}]\n",
      "[{'inputs': ['[]', '3'], 'output': '3'}, {'inputs': ['[Nothing]', '5'], 'output': '5'}, {'inputs': ['[Nothing, Nothing, Just 7, Nothing]', '5'], 'output': '7'}]\n",
      "[{'inputs': ['(7:)', '3', '[]'], 'output': '[7,7,7]'}]\n",
      "[{'inputs': ['10', '[Nothing]'], 'output': '10'}, {'inputs': ['0', '[Nothing, Just 1]'], 'output': '1'}]\n",
      "[{'inputs': ['5', 'Nothing, Just 1, Nothing]'], 'output': '1'}, {'inputs': ['10', '[Nothing]'], 'output': '10'}, {'inputs': ['0', '[Nothing, Just 1]'], 'output': '1'}]\n",
      "[{'inputs': ['5', '[Nothing, Just 1, Nothing]'], 'output': '1'}, {'inputs': ['10', '[Nothing]'], 'output': '10'}, {'inputs': ['0', '[Nothing, Just 1]'], 'output': '1'}]\n",
      "[{'inputs': ['4', '[Nothing, Just1, Just2]'], 'output': '1'}, {'inputs': ['5', '[Nothing, Just 1, Nothing]'], 'output': '1'}, {'inputs': ['10', '[Nothing]'], 'output': '10'}, {'inputs': ['0', '[Nothing, Just 1]'], 'output': '1'}]\n",
      "[{'inputs': ['4', '[Nothing, Just 1, Just 2]'], 'output': '1'}, {'inputs': ['5', '[Nothing, Just 1, Nothing]'], 'output': '1'}, {'inputs': ['10', '[Nothing]'], 'output': '10'}, {'inputs': ['0', '[Nothing, Just 1]'], 'output': '1'}]\n",
      "[{'inputs': ['[Nothing, Just 11]', '10'], 'output': '11'}, {'inputs': ['[Nothing]', '10'], 'output': '10'}]\n",
      "[{'inputs': ['[Nothing, Just 11, Nothing]', '10'], 'output': '11'}, {'inputs': ['[Nothing, Just 11]', '10'], 'output': '11'}, {'inputs': ['[Nothing]', '10'], 'output': '10'}]\n",
      "[{'inputs': ['0', '[0]', '1'], 'output': '[]'}, {'inputs': ['2', '[0,0]', \"'a'\"], 'output': '[0,0,0,0]'}]\n",
      "[{'inputs': ['0', '[0]'], 'output': '[]'}, {'inputs': ['2', '[0,0]'], 'output': '[0,0,0,0]'}]\n",
      "[{'inputs': ['0', '[0]'], 'output': '[]'}, {'inputs': ['2', \"'a'\"], 'output': '[0,0,0,0]'}]\n",
      "[{'inputs': ['6', '[1,2,3,4]'], 'output': '[]'}]\n",
      "[{'inputs': ['\"ccccccc\"'], 'output': '\"c\"'}, {'inputs': ['\"ababaab\"'], 'output': '\"abab\"'}, {'inputs': ['\"aabbab\"'], 'output': '\"abab\"'}]\n",
      "[{'inputs': ['[(\\\\x -> x+2), (\\\\x->x*2)]', '5'], 'output': '[7,10]'}, {'inputs': ['[]', '0'], 'output': '[]'}, {'inputs': ['[\\\\x -> x + 1]', '1'], 'output': '[2]'}, {'inputs': ['[\\\\x -> x + 1,\\\\x -> x + 1]', '2'], 'output': '[3, 3]'}, {'inputs': ['[\\\\x -> x * x]', '-2'], 'output': '[4]'}, {'inputs': ['[\\\\x -> x + 1,\\\\x -> x + 1,\\\\x -> x + 1]', '3'], 'output': '[4, 4, 4]'}]\n",
      "[{'inputs': ['0', '[Nothing, Just 1]'], 'output': '1'}, {'inputs': ['0', '[Nothing]'], 'output': '0'}]\n",
      "[{'inputs': ['0', '[]'], 'output': '0'}, {'inputs': ['0', '[Nothing, Just 1]'], 'output': '1'}, {'inputs': ['0', '[Nothing]'], 'output': '0'}]\n",
      "[{'inputs': ['2', '\"abc\"'], 'output': '\"c\"'}]\n",
      "[{'inputs': ['\"xs\"', '\"ys\"'], 'output': '\"xyss\"'}]\n",
      "[{'inputs': ['3', '\"x\"'], 'output': '\"x\"'}]\n",
      "[{'inputs': ['[\\\\x -> x +2, \\\\x -> x * 2]', '5'], 'output': '[7,10]'}]\n",
      "[{'inputs': ['2', '[\"ha\",\"ha\"]'], 'output': '[\"ha\",\"ha\",\"ha\",\"ha\"]'}]\n",
      "[{'inputs': ['\"aabccc\"'], 'output': '\"abc\"'}, {'inputs': ['\"bbc\"'], 'output': '\"bc\"'}, {'inputs': ['\"abc\"'], 'output': '\"abc\"'}]\n",
      "[{'inputs': ['\"aabaa\"'], 'output': '\"aba\"'}, {'inputs': ['\"aabccc\"'], 'output': '\"abc\"'}, {'inputs': ['\"bbc\"'], 'output': '\"bc\"'}, {'inputs': ['\"abc\"'], 'output': '\"abc\"'}]\n",
      "[{'inputs': ['\"aaabbcc\"'], 'output': '\"abc\"'}]\n",
      "[{'inputs': ['[(+ 2), (* 3)]', '5'], 'output': '[7, 15]'}]\n",
      "[{'inputs': ['0', '[0,0]'], 'output': '[]'}]\n",
      "[{'inputs': ['2', '\"ab\"'], 'output': '\"abab\"'}]\n",
      "[{'inputs': ['dedupe ', '\"aaabbab\"'], 'output': '\"abab\"'}]\n",
      "[{'inputs': ['\"aaabbab\" '], 'output': '\"abab\"'}]\n",
      "[{'inputs': ['[(a->a*a),(a->1)]', '2'], 'output': '[4, 1]'}]\n",
      "[{'inputs': ['[(\\\\a->\"hi\"),(\\\\a->\"!\")]', '1'], 'output': '[\"hi\", \"!\"]'}, {'inputs': ['[(\\\\a->a),(\\\\a->1)]', '2'], 'output': '[2, 1]'}]\n",
      "[{'inputs': ['[(\\\\a->a*10),(\\\\a->a+5)]', '3'], 'output': '[30, 8]'}, {'inputs': ['[(\\\\a->\"hi\"),(\\\\a->\"!\")]', '1'], 'output': '[\"hi\", \"!\"]'}, {'inputs': ['[(\\\\a->a),(\\\\a->1)]', '2'], 'output': '[2, 1]'}]\n",
      "[{'inputs': ['[(\\\\x -> x + 2), (\\\\x -> x * 2)]', '5'], 'output': '[7, 10]'}]\n",
      "[{'inputs': ['4', '\"abc\"'], 'output': '[]'}]\n",
      "[{'inputs': ['0', '[Just (-1),Nothing]'], 'output': '-1'}, {'inputs': ['0', '[Nothing]'], 'output': '0'}]\n",
      "[{'inputs': ['0', '[Nothing, Nothing, Just 2]'], 'output': '2'}, {'inputs': ['0', '[Just (-1),Nothing]'], 'output': '-1'}, {'inputs': ['0', '[Nothing]'], 'output': '0'}]\n",
      "[{'inputs': ['3', '\"a\"'], 'output': '\"aaa\"'}, {'inputs': ['2', '\"abc\"'], 'output': '\"abcabc\"'}]\n",
      "[{'inputs': ['\"aaabbba\"'], 'output': '\"aba\"'}]\n",
      "[{'inputs': ['\"abc\"'], 'output': '\"abc\"'}, {'inputs': ['\"aabb\"'], 'output': '\"ab\"'}]\n",
      "[{'inputs': ['[(\\\\x -> x + 2), (\\\\x -> x * 2)] 5', '5'], 'output': '[7,10]'}]\n",
      "[{'inputs': ['[(\\\\x -> x + 2), (\\\\x -> x * 2)]', '5'], 'output': '[7,10]'}]\n",
      "[{'inputs': ['1', '\"xx\"'], 'output': '\"xx\"'}, {'inputs': ['0', '[]'], 'output': '[]'}]\n",
      "[{'inputs': ['1'], 'output': '2'}]\n",
      "[{'inputs': ['[\\\\x->x+1,\\\\x->x+2]', '4'], 'output': '[5,6]'}]\n",
      "[{'inputs': ['2', '\"abc\"'], 'output': '\"abcabc\"'}, {'inputs': ['2', '[1]'], 'output': '[1,1]'}]\n",
      "[{'inputs': ['2', '\"abc\"'], 'output': '\"abcabc\"'}, {'inputs': ['0', '[]'], 'output': '[]'}]\n",
      "[{'inputs': ['[1,2,2,3]'], 'output': '[1,2,3]'}, {'inputs': ['[1,2,2]'], 'output': '[1,2]'}, {'inputs': ['[1,1]'], 'output': '[1]'}]\n",
      "[{'inputs': ['[1,1,2]'], 'output': '[1,2]'}, {'inputs': ['[2,2]'], 'output': '[2]'}, {'inputs': ['[]'], 'output': '[]'}, {'inputs': ['[1,1]'], 'output': '[1]'}]\n",
      "[{'inputs': ['[(+1), (+2)]', '2'], 'output': '[3,4]'}]\n",
      "[{'inputs': [], 'output': '2'}]\n",
      "[{'inputs': ['\"book\"'], 'output': '1'}, {'inputs': ['\"aabbcde\"'], 'output': '2'}]\n",
      "[{'inputs': ['\"vscode\"'], 'output': '0'}, {'inputs': ['\"book\"'], 'output': '1'}, {'inputs': ['\"aabbcde\"'], 'output': '2'}]\n",
      "[{'inputs': ['\"abba\"'], 'output': 'True'}]\n",
      "[{'inputs': ['\"aabb\"'], 'output': 'False'}, {'inputs': ['\"abba\"'], 'output': 'True'}]\n"
     ]
    },
    {
     "name": "stdout",
     "output_type": "stream",
     "text": [
      "[{'inputs': ['\"Nadia Polikarpova\"'], 'output': '\"N.P\"'}, {'inputs': ['\"Kasra Ferdowsi Fard\"'], 'output': '\"K.F.F\"'}]\n",
      "[{'inputs': ['0', '[Nothing, Just 3, Just 4]'], 'output': '3'}, {'inputs': ['0', '[Nothing, Nothing]'], 'output': '0'}, {'inputs': ['0', '[Nothing, Just 1]'], 'output': '1'}]\n",
      "[{'inputs': ['1', '[Just 5, Nothing]'], 'output': '5'}, {'inputs': ['0', '[Nothing, Just 3, Just 4]'], 'output': '3'}, {'inputs': ['0', '[Nothing, Nothing]'], 'output': '0'}, {'inputs': ['0', '[Nothing, Just 1]'], 'output': '1'}]\n",
      "[{'inputs': ['(\\\\x -> x ++ x)', '3', '\"f-'], 'output': '\"f-f-f-f-f-f-f-f-\"'}]\n",
      "[{'inputs': ['(\\\\x -> x + 1)', '3', '0'], 'output': '3'}]\n",
      "[{'inputs': ['(\\\\x -> \"\")', '3', '0'], 'output': '3'}]\n",
      "[{'inputs': ['(\\\\x -> 0.01)', '3', '0'], 'output': '3'}]\n",
      "[{'inputs': ['0', '[Nothing, Just 1]'], 'output': '1'}]\n",
      "[{'inputs': ['(a -> b)', 'Num', 'a'], 'output': '[b]'}]\n",
      "[{'inputs': ['(\\\\x -> x ++ x)', '3', '\"f-\"'], 'output': '\"f-f-f-f-f-f-f-f-\"'}]\n",
      "[{'inputs': ['2', '\"abc\"'], 'output': '\"abcabc\"'}]\n",
      "[{'inputs': ['3', '\"\"'], 'output': '\"\"'}, {'inputs': ['2', '\"abc\"'], 'output': '\"abcabc\"'}]\n",
      "[{'inputs': ['0', '\"a\"'], 'output': '\"a\"'}, {'inputs': ['3', '\"\"'], 'output': '\"\"'}, {'inputs': ['2', '\"abc\"'], 'output': '\"abcabc\"'}]\n",
      "[{'inputs': ['0', '[Nothing, Just 1, Just 2]'], 'output': '1'}]\n",
      "[{'inputs': ['3', '\"abc\"'], 'output': '\"abcabcabc\"'}]\n",
      "[{'inputs': ['\"aaabbab\"'], 'output': '\"abab\"'}]\n",
      "[{'inputs': ['[(\\\\x -> x + 2), (\\\\x -> x * 2)]'], 'output': ' [7, 10]'}]\n",
      "[{'inputs': ['[(\\\\x -> x + 2), (\\\\x -> x * 2)]', '5'], 'output': ' [7, 10]'}]\n"
     ]
    }
   ],
   "source": [
    "tests = []\n",
    "for exs in examples:\n",
    "    if len(exs) == 0:\n",
    "        continue\n",
    "    print(exs)\n",
    "    res = run_query(exs)\n",
    "    if res['error']:\n",
    "        tests.append((exs, res['error']))\n",
    "    else:\n",
    "        tests.append((exs, res['typeCandidates']))"
   ]
  },
  {
   "cell_type": "code",
   "execution_count": 65,
   "metadata": {},
   "outputs": [],
   "source": [
    "import csv\n",
    "\n",
    "def write_csv(tests):\n",
    "    with open('inference_lines.csv', 'w', newline='') as f:\n",
    "        test_writer = csv.writer(f, delimiter='\\t',dialect=csv.excel)\n",
    "        for (exs, res) in tests:\n",
    "            test_writer.writerow(('\\r\\n'.join(map(lambda x: str(x), exs)), '\\r\\n'.join(res)))\n",
    "        "
   ]
  },
  {
   "cell_type": "code",
   "execution_count": 66,
   "metadata": {},
   "outputs": [],
   "source": [
    "write_csv(tests)"
   ]
  },
  {
   "cell_type": "code",
   "execution_count": null,
   "metadata": {},
   "outputs": [],
   "source": []
  }
 ],
 "metadata": {
  "kernelspec": {
   "display_name": "Python 3",
   "language": "python",
   "name": "python3"
  },
  "language_info": {
   "codemirror_mode": {
    "name": "ipython",
    "version": 3
   },
   "file_extension": ".py",
   "mimetype": "text/x-python",
   "name": "python",
   "nbconvert_exporter": "python",
   "pygments_lexer": "ipython3",
   "version": "3.7.6"
  }
 },
 "nbformat": 4,
 "nbformat_minor": 4
}
